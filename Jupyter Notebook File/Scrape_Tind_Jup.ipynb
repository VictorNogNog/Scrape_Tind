{
 "cells": [
  {
   "cell_type": "code",
   "execution_count": null,
   "metadata": {
    "ExecuteTime": {
     "end_time": "2019-05-26T22:59:22.277598Z",
     "start_time": "2019-05-26T22:59:20.079640Z"
    }
   },
   "outputs": [],
   "source": [
    "import time\n",
    "from selenium.webdriver.common.keys import Keys\n",
    "from selenium import webdriver\n",
    "from selenium.webdriver.common.action_chains import ActionChains \n",
    "from selenium.webdriver.common import actions\n",
    "from selenium.webdriver import ChromeOptions\n",
    "from selenium.common.exceptions import NoSuchElementException\n",
    "from numpy.random import normal\n",
    "import datetime\n",
    "import os\n",
    "import requests\n",
    "import cv2\n",
    "import re\n",
    "import glob2 as glob\n",
    "import pandas as pd\n",
    "from bs4 import BeautifulSoup as BS"
   ]
  },
  {
   "cell_type": "code",
   "execution_count": null,
   "metadata": {
    "ExecuteTime": {
     "end_time": "2019-05-26T22:59:22.277598Z",
     "start_time": "2019-05-26T22:59:20.079640Z"
    }
   },
   "outputs": [],
   "source": [
    "pers_pass = \"ENTER FB PASS HERE\"\n",
    "pers_mail = \"ENTER FB EMAIL HERE\"\n",
    "path = \"ENTER WEBDRIVER PATH HERE\""
   ]
  },
  {
   "cell_type": "code",
   "execution_count": null,
   "metadata": {
    "ExecuteTime": {
     "end_time": "2019-05-26T22:59:22.277598Z",
     "start_time": "2019-05-26T22:59:20.079640Z"
    }
   },
   "outputs": [],
   "source": [
    "cwd = os.getcwd()\n",
    "sleep_val = 2\n",
    "small_sleep = 1\n",
    "\n",
    "chrome_options = webdriver.ChromeOptions()\n",
    "prefs = {\"profile.default_content_setting_values.notifications\" : 2}\n",
    "chrome_options.add_experimental_option(\"prefs\",prefs)\n",
    "driver = webdriver.Chrome(path, options=chrome_options)\n",
    "\n",
    "uni_words = ['university', 'bachelor\\'s','ba','ms','phd','ph.d','major','postgraduate','postgrad','grad','degree','college','academy','institution','school']"
   ]
  },
  {
   "cell_type": "code",
   "execution_count": null,
   "metadata": {
    "ExecuteTime": {
     "end_time": "2019-05-26T22:59:22.277598Z",
     "start_time": "2019-05-26T22:59:20.079640Z"
    }
   },
   "outputs": [],
   "source": [
    "def remove_dups(seq):\n",
    "    seen = set()\n",
    "    seen_add = seen.add\n",
    "    return [x for x in seq if not (x in seen or seen_add(x))]"
   ]
  },
  {
   "cell_type": "code",
   "execution_count": null,
   "metadata": {
    "ExecuteTime": {
     "end_time": "2019-05-26T22:59:22.282605Z",
     "start_time": "2019-05-26T22:59:22.279597Z"
    }
   },
   "outputs": [],
   "source": [
    "class Tinder():\n",
    "    \n",
    "    def __init__(self):\n",
    "        self.driver = webdriver.Chrome(path, options=chrome_options)\n",
    "        self.txt_data = dict()\n",
    "        self.img_data = []\n",
    "        self.bs = BS()\n",
    "\n",
    "\n",
    "    def login(self):\n",
    "        self.driver.get(\n",
    "            'https://www.facebook.com/'\n",
    "        )\n",
    "        email = self.driver.find_element_by_id('email')\n",
    "        email.send_keys(pers_mail)\n",
    "        pw = self.driver.find_element_by_id('pass')\n",
    "        pw.send_keys(pers_pass)\n",
    "        logbut= self.driver.find_element_by_id('loginbutton')\n",
    "        logbut.click()\n",
    "        self.driver.get(\n",
    "            'http://tinder.com'\n",
    "        )\n",
    "        \n",
    "        #Wait for the facebook log in button\n",
    "        time.sleep(2)\n",
    "        self.driver.find_element_by_xpath(\n",
    "            \"//*[@id=\\\"modal-manager\\\"]/div/div/div[2]/div/div[3]/div[2]/button/span\"\n",
    "        ).click();\n",
    "        \n",
    "        #Wait for Tinder to load\n",
    "        time.sleep(2.5)\n",
    "\n",
    "        return print('Successfully logged onto Tinder')\n",
    "    \n",
    "    def tutorial(self):\n",
    "        self.driver.find_element_by_xpath(\n",
    "            \"//*[@id='content']/span/div/div[1]/div/main/div[1]/div/div/div[1]/div/div[1]/div[3]/div[1]/div[1]/div/div[1]/div\"\n",
    "        ).click()\n",
    "\n",
    "        self.driver.find_element_by_xpath(\n",
    "            \"//*[@id='content']/span/div/div[1]/div/main/div[1]/div/div/div[1]/div/div[1] \"\n",
    "        ).click()\n",
    "        return print(\"Clicked Through Tutorial\")\n",
    "    \n",
    "    def get_data(self):\n",
    "        time.sleep(sleep_val)\n",
    "        this_list=[]\n",
    "        that_list=[]\n",
    "        for a in self.driver.find_elements_by_xpath('.//*[@id=\\\"content\\\"]/span/div/div[1]/div/main/div[1]/div/div/div[1]/div/div[1]/div[3]/div[1]/div[1]/div'):\n",
    "            for x in range(10):\n",
    "                time.sleep(0.05)\n",
    "                b = a.get_attribute(\"innerHTML\")\n",
    "                that_list.append(b)\n",
    "                this_list.append(b.split(\"url(&quot;\")[1].split(\"&quot;);\")[0])\n",
    "                self.driver.key_down(Keys.SPACE).key_up(Keys.SPACE)\n",
    "        self.img_data= remove_dups(this_list)\n",
    "        actions = ActionChains(self.driver)\n",
    "        time.sleep(small_sleep)\n",
    "        actions.send_keys(Keys.ARROW_UP).perform()\n",
    "\n",
    "        age = self.driver.find_element_by_xpath(\"//*[@id=\\\"content\\\"]/span/div/div[1]/div/main/div[1]/div/div/div[1]/div[1]/div/div[2]/div[1]/div/div[1]/span\").text;\n",
    "        #Get Prof info\n",
    "        try:\n",
    "            elem1 = self.driver.find_element_by_xpath(\"//*[@id=\\\"content\\\"]/span/div/div[1]/div/main/div[1]/div/div/div[1]/div[1]/div/div[2]/div[1]/div/div[2]/div[1]/div[2]\").text;\n",
    "        except NoSuchElementException:\n",
    "            elem1 = 'N/A'\n",
    "        try:\n",
    "            elem2 = self.driver.find_element_by_xpath(\"//*[@id=\\\"content\\\"]/span/div/div[1]/div/main/div[1]/div/div/div[1]/div[1]/div/div[2]/div[1]/div/div[2]/div[2]/div[2]\").text;\n",
    "        except NoSuchElementException:\n",
    "            elem2 = 'N/A'\n",
    "\n",
    "        try:\n",
    "            elem3 = self.driver.find_element_by_xpath(\"//*[@id=\\\"content\\\"]/span/div/div[1]/div/main/div[1]/div/div/div[1]/div[1]/div/div[2]/div[1]/div/div[2]/div[3]/div[2]\").text;\n",
    "        except NoSuchElementException:\n",
    "            elem3 = 'N/A'\n",
    "        name = self.driver.find_element_by_xpath(\"//*[@id=\\\"content\\\"]/span/div/div[1]/div/main/div[1]/div/div/div[1]/div[1]/div/div[2]/div[1]/div/div[1]/div/span\").text;\n",
    "        try:\n",
    "            song=self.driver.find_element_by_xpath(\"//*[@id=\\\"content\\\"]/span/div/div[1]/div/main/div[1]/div/div/div[1]/div[1]/div/div[2]/div[3]/div/div[2]/div[1]/div[1]\").text;\n",
    "        except NoSuchElementException:\n",
    "            song = 0\n",
    "        try:\n",
    "            profile_txt = self.driver.find_element_by_xpath(\"//*[@id=\\\"content\\\"]/span/div/div[1]/div/main/div[1]/div/div/div[1]/div[1]/div/div[2]/div[2]/div\").text;\n",
    "        except NoSuchElementException:\n",
    "            profile_txt = 0\n",
    "        #Complicated ass parsing, since Tinder won't give us consistent X paths.\n",
    "        elem_coll = [str.lower(x) for x in list((elem1,elem2,elem3))]\n",
    "        elem1, elem2, elem3 = str.lower(elem1), str.lower(elem2), str.lower(elem3)\n",
    "        elem_coll = [elem1]+[elem2]+[elem3]\n",
    "        dist_filt = (dist_elem for dist_elem in elem_coll if 'miles' in dist_elem)\n",
    "        dist = next(dist_filt)\n",
    "        uni_filt = (uni_elem for uni_elem in elem_coll if any(s in uni_elem for s in uni_words))\n",
    "        try:\n",
    "            uni = next(uni_filt)\n",
    "        except StopIteration:\n",
    "            uni = 0\n",
    "        if len(elem_coll) == 3 and \\\n",
    "        uni != 0 and\\\n",
    "        dist != 0:\n",
    "            job = list(set(elem_coll)-set([uni,dist]))[0]\n",
    "        else:\n",
    "            job = 0\n",
    "        int_dist=re.sub(\"[^0-9]\", \"\", dist)\n",
    "        list_of_values = [str(job),str(uni),str(int_dist),str(name)]\n",
    "        list_of_keys =['job','uni','dist','name']\n",
    "        self.txt_data = dict(zip(list_of_keys, list_of_values))\n",
    "        self.bs = BS(self.driver.page_source, 'lxml')\n",
    "        return print(\"USER DATA\\n Age: {}\\n Name: {}\\n Occupation: {}\\n University Info:{}\\n Distance: {}\\n Song {}:\\n Profile text\\n {}\".format(\n",
    "            age,\n",
    "            name,\n",
    "            job,\n",
    "            uni,\n",
    "            dist,\n",
    "            song,\n",
    "            profile_txt)\n",
    "                    )"
   ]
  },
  {
   "cell_type": "code",
   "execution_count": null,
   "metadata": {
    "ExecuteTime": {
     "end_time": "2019-05-26T23:00:29.912618Z",
     "start_time": "2019-05-26T23:00:15.491432Z"
    }
   },
   "outputs": [],
   "source": [
    "bb = Tinder()\n",
    "bb.login()\n",
    "bb.tutorial()\n",
    "BS(bb.driver.page_source, 'html5lib').find('div',attrs = {'class':\"react-swipeable-view-container\"}).prettify()"
   ]
  },
  {
   "cell_type": "code",
   "execution_count": null,
   "metadata": {
    "ExecuteTime": {
     "end_time": "2019-05-26T23:00:50.157607Z",
     "start_time": "2019-05-26T23:00:40.740790Z"
    }
   },
   "outputs": [],
   "source": [
    "now = datetime.datetime.now()\n",
    "time= now.strftime(\"%b %d %Y %H:%M:%S\")\n",
    "solution = {f\"Jenny_{time}\":{\n",
    "    \"Images\":{\n",
    "        \"Image 1\": \"https://images-ssl.gotinder.com/53cc38bc163054b238e3173f/CENxCEN_d61e06f9-CENS-48ba5a6abf722.jpg\",\n",
    "        \"Image 2\": \"https://images-ssl.gotinder.com/53cc38bc163054b238e3173f/CENxCEN_d61e06f9-CENS-4ac4-a6abf722.jpg\",\n",
    "        \"Image 3\": \"https://images-ssl.gotinder.com/53cc38bc163054b238e3173f/CENxCEN_d61e06f9-CENS-4ac4-abf722.jpg\",\n",
    "        \"Image 4\": \"https://images-ssl.gotinder.com/53cc38bc163054b238e3173f/CENxCEN_d61e06f9-CENS-4ac4-6abf722.jpg\",\n",
    "        \"Image 5\": 0,\n",
    "        \"Image 6\": 0,\n",
    "        \"Image 7\": 0,\n",
    "        \"Image 8\": 0,\n",
    "        \"Image 9\": 0,\n",
    "              }}}"
   ]
  }
 ],
 "metadata": {
  "kernelspec": {
   "display_name": "Python 3",
   "language": "python",
   "name": "python3"
  },
  "language_info": {
   "codemirror_mode": {
    "name": "ipython",
    "version": 3
   },
   "file_extension": ".py",
   "mimetype": "text/x-python",
   "name": "python",
   "nbconvert_exporter": "python",
   "pygments_lexer": "ipython3",
   "version": "3.7.3"
  }
 },
 "nbformat": 4,
 "nbformat_minor": 2
}
