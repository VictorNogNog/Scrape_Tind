{
 "cells": [
  {
   "cell_type": "code",
   "execution_count": 1,
   "metadata": {
    "ExecuteTime": {
     "end_time": "2019-05-27T07:09:23.016960Z",
     "start_time": "2019-05-27T07:09:21.046429Z"
    }
   },
   "outputs": [],
   "source": [
    "import time\n",
    "from selenium.webdriver.common.keys import Keys\n",
    "from selenium import webdriver \n",
    "from selenium.webdriver.common.action_chains import ActionChains \n",
    "from selenium.webdriver.common import actions\n",
    "from selenium.webdriver import ChromeOptions\n",
    "from selenium.common.exceptions import NoSuchElementException\n",
    "from selenium.webdriver.common.by import By\n",
    "from selenium.webdriver.support.ui import WebDriverWait\n",
    "from selenium.webdriver.support import expected_conditions as EC\n",
    "from numpy.random import normal\n",
    "import datetime\n",
    "import os\n",
    "import requests\n",
    "import cv2\n",
    "import re\n",
    "import glob2 as glob\n",
    "import pandas as pd\n",
    "from bs4 import BeautifulSoup as BS"
   ]
  },
  {
   "cell_type": "code",
   "execution_count": 2,
   "metadata": {
    "ExecuteTime": {
     "end_time": "2019-05-27T07:09:23.020948Z",
     "start_time": "2019-05-27T07:09:23.018947Z"
    }
   },
   "outputs": [],
   "source": [
    "pers_pass = \"ENTER FB PASS HERE\"\n",
    "pers_mail = \"ENTER FB EMAIL HERE\"\n",
    "can_path= \"ENTER PATH TO CHROME OR CANARY HERE\"\n",
    "\n",
    "chrome_options = ChromeOptions()\n",
    "chrome_options.binary_location =\"ENTER PATH TO CHROME BINARY HERE\"\n",
    "prefs = {\"profile.default_content_setting_values.notifications\" : 2}\n",
    "chrome_options.add_experimental_option(\"prefs\",prefs)"
   ]
  },
  {
   "cell_type": "code",
   "execution_count": 8,
   "metadata": {
    "ExecuteTime": {
     "end_time": "2019-05-27T07:10:03.416916Z",
     "start_time": "2019-05-27T07:10:03.412917Z"
    }
   },
   "outputs": [],
   "source": [
    "def uniquify(seq):\n",
    "    seen = set()\n",
    "    seen_add = seen.add\n",
    "    return [x for x in seq if not (x in seen or seen_add(x))]"
   ]
  },
  {
   "cell_type": "code",
   "execution_count": null,
   "metadata": {
    "ExecuteTime": {
     "end_time": "2019-05-27T07:47:17.743891Z",
     "start_time": "2019-05-27T07:47:17.728896Z"
    }
   },
   "outputs": [],
   "source": [
    "regex_search_exp= re.compile(\n",
    "        '^background-image: url\\(\"https://images-ssl.gotinder.com/'+'.{24}/640')\n",
    "regex_link_search= re.compile(\n",
    "        '^https://images-ssl.gotinder.com/')\n",
    "uni_words = [\n",
    "    'university',\n",
    "    'bachelor\\'s',\n",
    "    'ba',\n",
    "    'ms',\n",
    "    'phd',\n",
    "    'ph.d',\n",
    "    'major',\n",
    "    'postgraduate',\n",
    "    'postgrad',\n",
    "    'grad',\n",
    "    'degree',\n",
    "    'college',\n",
    "    'academy',\n",
    "    'institution',\n",
    "    'school']\n",
    "\n",
    "class Tinder():\n",
    "    def __init__(self):\n",
    "        self.driver = webdriver.Chrome(can_path, options=chrome_options)\n",
    "        self.txt_data = dict()\n",
    "        self.img_links = []\n",
    "        self.img_dict = dict()\n",
    "        self.data_dict = dict()\n",
    "\n",
    "    def login(self):\n",
    "        self.driver.get('https://www.facebook.com/')\n",
    "        try:\n",
    "            element = WebDriverWait(self.driver, 10).until(\n",
    "                EC.presence_of_element_located((By.ID, \"email\"))\n",
    "            )\n",
    "        finally:\n",
    "            self.driver.find_element_by_id('email').click()\n",
    "            self.driver.find_element_by_id('email').send_keys(pers_mail)\n",
    "        \n",
    "        self.driver.find_element_by_id('pass').send_keys(pers_pass)\n",
    "        self.driver.find_element_by_id('loginbutton').click()\n",
    "        self.driver.get('http://tinder.com')\n",
    "        try:\n",
    "            element = WebDriverWait(self.driver, 10).until(\n",
    "                EC.presence_of_element_located(\n",
    "                    (By.XPATH,\n",
    "                     \"//*[@id=\\\"modal-manager\\\"]/div/div/div[2]/div/div[3]/div[2]/button/span\"\n",
    "                    )))\n",
    "        finally:\n",
    "            self.driver.find_element_by_xpath(\n",
    "                \"//*[@id=\\\"modal-manager\\\"]/div/div/div[2]/div/div[3]/div[2]/button/span\"\n",
    "            ).click();\n",
    "        #Complete the tutorial -- Didn't check this just added it.\n",
    "        try:\n",
    "            element = WebDriverWait(self.driver, 10).until(\n",
    "                EC.presence_of_element_located(\n",
    "                    (By.XPATH,\n",
    "                     \"//*[@id='content']/span/div/div[1]/div/main/div[1]/div/div/div[1]/div/div[1]/div[3]/div[1]/div[1]/div/div[1]/div\"\n",
    "                    )))\n",
    "        finally:\n",
    "            self.driver.find_element_by_xpath(\n",
    "                \"//*[@id='content']/span/div/div[1]/div/main/div[1]/div/div/div[1]/div/div[1]/div[3]/div[1]/div[1]/div/div[1]/div\"\n",
    "            ).click()\n",
    "        try:\n",
    "            element = WebDriverWait(self.driver, 10).until(\n",
    "                EC.presence_of_element_located(\n",
    "                    (By.XPATH,\n",
    "                     \"//*[@id='content']/span/div/div[1]/div/main/div[1]/div/div/div[1]/div/div[1]\"\n",
    "                    )))\n",
    "        finally:\n",
    "            self.driver.find_element_by_xpath(\n",
    "                \"//*[@id='content']/span/div/div[1]/div/main/div[1]/div/div/div[1]/div/div[1]\"\n",
    "            ).click()\n",
    "        return print(f\"{pers_mail} has succesfully logged into tinder and completed tutorial\")\n",
    "\n",
    "    def data_init(self):\n",
    "        \"\"\"\n",
    "        Going to intialize the dictionary. Structure will be\n",
    "        A unique ID\n",
    "            Profile_Txt\n",
    "            Age\n",
    "            Distance\n",
    "            Images\n",
    "                Link1\n",
    "                Link2\n",
    "                Link3\n",
    "                ...\n",
    "                Link9\n",
    "        NEEDS MORE WORK\n",
    "        \"\"\"\n",
    "        now = datetime.datetime.now()\n",
    "        time= now.strftime(\"%b %d %Y %H:%M:%S\")\n",
    "        name = BS(self.driver.page_source, 'lxml').find_all('span', {\"class\":\"Flxs($flx1) Flw(w) Fz($xl) Fw($bold) Pend(8px)\"})[1].text\n",
    "        age = BS(self.driver.page_source, 'lxml').find_all('div', {\"class\":'Us(t) Va(m) D(ib) My(2px) NetWidth(100%,20px) C(#fff) Ell'})[1].text\n",
    "        return print(\"This is not finished yet!\")\n",
    "    \n",
    "    def img_data(self):\n",
    "        \"\"\"\n",
    "        Returns the user's first two images. Need to iterate through all images until I run into a duplicate, and then stop.\n",
    "        NEEDS MORE WORK\n",
    "        \"\"\"\n",
    "        url_list=[]\n",
    "        soup=BS(self.driver.page_source,'lxml')\n",
    "        results = soup.find_all(\"div\",{\"style\":regex_search_exp})\n",
    "        for result in results[2:]:\n",
    "            x = result.attrs['style'].split()\n",
    "            x=x[1][5:-3]\n",
    "            url_list.append(x)\n",
    "        print(f\" You are being returned a url_list of length {len(url_list)}\")\n",
    "        self.image_links=url_list\n",
    "        return url_list"
   ]
  },
  {
   "cell_type": "markdown",
   "metadata": {
    "ExecuteTime": {
     "end_time": "2019-05-27T07:47:17.743891Z",
     "start_time": "2019-05-27T07:47:17.728896Z"
    }
   },
   "source": [
    "# EVERYTHING BELOW IS PURELY SCRATCH WORK"
   ]
  },
  {
   "cell_type": "code",
   "execution_count": 70,
   "metadata": {
    "ExecuteTime": {
     "end_time": "2019-05-27T07:52:04.581596Z",
     "start_time": "2019-05-27T07:52:02.349342Z"
    }
   },
   "outputs": [],
   "source": [
    "bb = Tinder()"
   ]
  },
  {
   "cell_type": "code",
   "execution_count": null,
   "metadata": {
    "ExecuteTime": {
     "end_time": "2019-05-27T06:29:09.450554Z",
     "start_time": "2019-05-27T06:29:09.379587Z"
    }
   },
   "outputs": [],
   "source": [
    "import datetime\n",
    "now = datetime.datetime.now()\n",
    "time= now.strftime(\"%b %d %Y %H:%M:%S\")\n",
    "\n",
    "empty_dict = dict()\n",
    "name='jessica'\n",
    "age=25\n",
    "empty_dict_key = f\"{name}_{age}_{time}\"\n",
    "empty_dict[empty_dict_key]={}"
   ]
  },
  {
   "cell_type": "code",
   "execution_count": 63,
   "metadata": {
    "ExecuteTime": {
     "end_time": "2019-05-27T07:37:54.463268Z",
     "start_time": "2019-05-27T07:37:54.459269Z"
    }
   },
   "outputs": [],
   "source": [
    "empty_dict[empty_dict_key]['dist'] = -1\n",
    "empty_dict[empty_dict_key]['profle_txt'] = -1\n",
    "empty_dict[empty_dict_key]['age'] = -1\n",
    "empty_dict[empty_dict_key]['images'] = -1"
   ]
  },
  {
   "cell_type": "code",
   "execution_count": 65,
   "metadata": {
    "ExecuteTime": {
     "end_time": "2019-05-27T07:38:10.471140Z",
     "start_time": "2019-05-27T07:38:10.466142Z"
    }
   },
   "outputs": [
    {
     "data": {
      "text/plain": [
       "'link1'"
      ]
     },
     "execution_count": 65,
     "metadata": {},
     "output_type": "execute_result"
    }
   ],
   "source": [
    "distance={'dist':37}\n",
    "profile_txt={'profile_txt':'I just wanna have fun!'}\n",
    "age = {'age':22}\n",
    "images = ['link1','link2','link3','link4','link5','link6','link7','link8','link9']"
   ]
  },
  {
   "cell_type": "code",
   "execution_count": 47,
   "metadata": {
    "ExecuteTime": {
     "end_time": "2019-05-27T07:31:11.481300Z",
     "start_time": "2019-05-27T07:31:11.477301Z"
    }
   },
   "outputs": [
    {
     "data": {
      "text/plain": [
       "'I just wanna have fun!'"
      ]
     },
     "execution_count": 47,
     "metadata": {},
     "output_type": "execute_result"
    }
   ],
   "source": [
    "\"\"\"\n",
    "PULLING RANDOM BITS FROM THIS OLD CODE.\n",
    "\"\"\"\n",
    "class Tinder():\n",
    "    def __init__(self):\n",
    "        self.driver = webdriver.Chrome(path, options=chrome_options)\n",
    "        self.txt_data = dict()\n",
    "        self.img_data = []\n",
    "\n",
    "    def login(self):\n",
    "        self.driver.get(\n",
    "            'https://www.facebook.com/'\n",
    "        )\n",
    "        email = self.driver.find_element_by_id('email')\n",
    "        email.send_keys(pers_mail)\n",
    "        pw = self.driver.find_element_by_id('pass')\n",
    "        pw.send_keys(pers_pass)\n",
    "        logbut= self.driver.find_element_by_id('loginbutton')\n",
    "        logbut.click()\n",
    "        self.driver.get(\n",
    "            'http://tinder.com'\n",
    "        )\n",
    "        \n",
    "        #Wait for the facebook log in button\n",
    "        time.sleep(2)\n",
    "        self.driver.find_element_by_xpath(\n",
    "            \"//*[@id=\\\"modal-manager\\\"]/div/div/div[2]/div/div[3]/div[2]/button/span\"\n",
    "        ).click();\n",
    "        \n",
    "        #Wait for Tinder to load\n",
    "        time.sleep(2.5)\n",
    "\n",
    "        return print('Successfully logged onto Tinder')\n",
    "    \n",
    "    def tutorial(self):\n",
    "        self.driver.find_element_by_xpath(\n",
    "            \"//*[@id='content']/span/div/div[1]/div/main/div[1]/div/div/div[1]/div/div[1]/div[3]/div[1]/div[1]/div/div[1]/div\"\n",
    "        ).click()\n",
    "\n",
    "        self.driver.find_element_by_xpath(\n",
    "            \"//*[@id='content']/span/div/div[1]/div/main/div[1]/div/div/div[1]/div/div[1] \"\n",
    "        ).click()\n",
    "        return print(\"Clicked Through Tutorial\")\n",
    "\n",
    "    def get_data(self):\n",
    "        time.sleep(sleep_val)\n",
    "        this_list=[]\n",
    "        that_list=[]\n",
    "        for a in self.driver.find_elements_by_xpath('.//*[@id=\\\"content\\\"]/span/div/div[1]/div/main/div[1]/div/div/div[1]/div/div[1]/div[3]/div[1]/div[1]/div'):\n",
    "            for x in range(10):\n",
    "                time.sleep(0.05)\n",
    "                b = a.get_attribute(\"innerHTML\")\n",
    "                that_list.append(b)\n",
    "                this_list.append(b.split(\"url(&quot;\")[1].split(\"&quot;);\")[0])\n",
    "                self.driver.key_down(Keys.SPACE).key_up(Keys.SPACE)\n",
    "        self.img_data= remove_dups(this_list)\n",
    "        actions = ActionChains(self.driver)\n",
    "        time.sleep(small_sleep)\n",
    "        actions.send_keys(Keys.ARROW_UP).perform()\n",
    "\n",
    "        age = self.driver.find_element_by_xpath(\"//*[@id=\\\"content\\\"]/span/div/div[1]/div/main/div[1]/div/div/div[1]/div[1]/div/div[2]/div[1]/div/div[1]/span\").text;\n",
    "        #Get Prof info\n",
    "        try:\n",
    "            elem1 = self.driver.find_element_by_xpath(\"//*[@id=\\\"content\\\"]/span/div/div[1]/div/main/div[1]/div/div/div[1]/div[1]/div/div[2]/div[1]/div/div[2]/div[1]/div[2]\").text;\n",
    "        except NoSuchElementException:\n",
    "            elem1 = 'N/A'\n",
    "        try:\n",
    "            elem2 = self.driver.find_element_by_xpath(\"//*[@id=\\\"content\\\"]/span/div/div[1]/div/main/div[1]/div/div/div[1]/div[1]/div/div[2]/div[1]/div/div[2]/div[2]/div[2]\").text;\n",
    "        except NoSuchElementException:\n",
    "            elem2 = 'N/A'\n",
    "\n",
    "        try:\n",
    "            elem3 = self.driver.find_element_by_xpath(\"//*[@id=\\\"content\\\"]/span/div/div[1]/div/main/div[1]/div/div/div[1]/div[1]/div/div[2]/div[1]/div/div[2]/div[3]/div[2]\").text;\n",
    "        except NoSuchElementException:\n",
    "            elem3 = 'N/A'\n",
    "        name = self.driver.find_element_by_xpath(\"//*[@id=\\\"content\\\"]/span/div/div[1]/div/main/div[1]/div/div/div[1]/div[1]/div/div[2]/div[1]/div/div[1]/div/span\").text;\n",
    "        try:\n",
    "            song=self.driver.find_element_by_xpath(\"//*[@id=\\\"content\\\"]/span/div/div[1]/div/main/div[1]/div/div/div[1]/div[1]/div/div[2]/div[3]/div/div[2]/div[1]/div[1]\").text;\n",
    "        except NoSuchElementException:\n",
    "            song = 0\n",
    "        try:\n",
    "            profile_txt = self.driver.find_element_by_xpath(\"//*[@id=\\\"content\\\"]/span/div/div[1]/div/main/div[1]/div/div/div[1]/div[1]/div/div[2]/div[2]/div\").text;\n",
    "        except NoSuchElementException:\n",
    "            profile_txt = 0\n",
    "        #Complicated ass parsing, since Tinder won't give us consistent X paths.\n",
    "        elem_coll = [str.lower(x) for x in list((elem1,elem2,elem3))]\n",
    "        elem1, elem2, elem3 = str.lower(elem1), str.lower(elem2), str.lower(elem3)\n",
    "        elem_coll = [elem1]+[elem2]+[elem3]\n",
    "        dist_filt = (dist_elem for dist_elem in elem_coll if 'miles' in dist_elem)\n",
    "        dist = next(dist_filt)\n",
    "        uni_filt = (uni_elem for uni_elem in elem_coll if any(s in uni_elem for s in uni_words))\n",
    "        try:\n",
    "            uni = next(uni_filt)\n",
    "        except StopIteration:\n",
    "            uni = 0\n",
    "        if len(elem_coll) == 3 and \\\n",
    "        uni != 0 and\\\n",
    "        dist != 0:\n",
    "            job = list(set(elem_coll)-set([uni,dist]))[0]\n",
    "        else:\n",
    "            job = 0\n",
    "        int_dist=re.sub(\"[^0-9]\", \"\", dist)\n",
    "        list_of_values = [str(job),str(uni),str(int_dist),str(name)]\n",
    "        list_of_keys =['job','uni','dist','name']\n",
    "        self.txt_data = dict(zip(list_of_keys, list_of_values))\n",
    "        self.bs = BS(self.driver.page_source, 'lxml')\n",
    "        return print(\"USER DATA\\n Age: {}\\n Name: {}\\n Occupation: {}\\n University Info:{}\\n Distance: {}\\n Song {}:\\n Profile text\\n {}\".format(\n",
    "            age,\n",
    "            name,\n",
    "            job,\n",
    "            uni,\n",
    "            dist,\n",
    "            song,\n",
    "            profile_txt)\n",
    "                    )"
   ]
  }
 ],
 "metadata": {
  "kernelspec": {
   "display_name": "Python 3",
   "language": "python",
   "name": "python3"
  },
  "language_info": {
   "codemirror_mode": {
    "name": "ipython",
    "version": 3
   },
   "file_extension": ".py",
   "mimetype": "text/x-python",
   "name": "python",
   "nbconvert_exporter": "python",
   "pygments_lexer": "ipython3",
   "version": "3.7.3"
  }
 },
 "nbformat": 4,
 "nbformat_minor": 2
}
